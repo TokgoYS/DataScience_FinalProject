{
 "cells": [
  {
   "cell_type": "markdown",
   "metadata": {},
   "source": [
    "### Functions to transform annotations and create train/test dataset."
   ]
  },
  {
   "cell_type": "code",
   "execution_count": 2,
   "metadata": {},
   "outputs": [],
   "source": [
    "import sys\n",
    "\n",
    "from prerequisites.data_config import DataConfig\n",
    "from prerequisites.dataset_transformers import (\n",
    "    VRDTransformer\n",
    ")\n",
    "from prerequisites.download_images import download_images"
   ]
  },
  {
   "cell_type": "code",
   "execution_count": 3,
   "metadata": {},
   "outputs": [],
   "source": [
    "TRANSFORMERS = {\n",
    "    'VRD': VRDTransformer,\n",
    "}"
   ]
  },
  {
   "cell_type": "code",
   "execution_count": 4,
   "metadata": {},
   "outputs": [],
   "source": [
    "def is_valid_dataset(dataset):\n",
    "    return dataset in TRANSFORMERS"
   ]
  },
  {
   "cell_type": "code",
   "execution_count": 5,
   "metadata": {},
   "outputs": [],
   "source": [
    "def main(datasets):\n",
    "    \"\"\"Run the data preprocessing and creation pipeline.\"\"\"\n",
    "    _path = 'prerequisites/'\n",
    "    for dataset in datasets:\n",
    "        if is_valid_dataset(dataset):\n",
    "            print('Creating annotations for ' + dataset)\n",
    "            TRANSFORMERS[dataset](DataConfig(_path, dataset)).transform()\n",
    "        else:\n",
    "            print(f\"Warning: Invalid dataset name '{dataset}'\")\n",
    "    print('Done.')"
   ]
  },
  {
   "cell_type": "code",
   "execution_count": 6,
   "metadata": {},
   "outputs": [
    {
     "name": "stdout",
     "output_type": "stream",
     "text": [
      "Creating annotations for VRD\n",
      "Done.\n"
     ]
    }
   ],
   "source": [
    "if __name__ == \"__main__\":\n",
    "    datasets = [arg for arg in sys.argv[1:] if is_valid_dataset(arg)]\n",
    "    if datasets:\n",
    "        main(datasets)\n",
    "    else:\n",
    "        main(['VRD'])"
   ]
  }
 ],
 "metadata": {
  "kernelspec": {
   "display_name": "data_science_final_project",
   "language": "python",
   "name": "python3"
  },
  "language_info": {
   "codemirror_mode": {
    "name": "ipython",
    "version": 3
   },
   "file_extension": ".py",
   "mimetype": "text/x-python",
   "name": "python",
   "nbconvert_exporter": "python",
   "pygments_lexer": "ipython3",
   "version": "3.8.19"
  }
 },
 "nbformat": 4,
 "nbformat_minor": 2
}
